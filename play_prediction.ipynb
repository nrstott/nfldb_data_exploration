{
 "cells": [
  {
   "cell_type": "code",
   "execution_count": 1,
   "metadata": {},
   "outputs": [],
   "source": [
    "import os\n",
    "\n",
    "import numpy as np\n",
    "import pandas as pd\n",
    "import tensorflow as tf\n"
   ]
  },
  {
   "cell_type": "code",
   "execution_count": 2,
   "metadata": {},
   "outputs": [],
   "source": [
    "_data_dir = os.path.join('.', 'data')\n",
    "_train_filename = os.path.join(_data_dir, 'ne_play_predictions_train.csv')\n",
    "_eval_filename = os.path.join(_data_dir, 'ne_play_predictions_eval.csv')\n",
    "_predict_filename = os.path.join(_data_dir, 'ne_play_predictions_holdout.csv')"
   ]
  },
  {
   "cell_type": "code",
   "execution_count": 3,
   "metadata": {},
   "outputs": [],
   "source": [
    "def load_prediction_data(filename):\n",
    "    column_dtypes = {\n",
    "        'gsis_id': np.int32,\n",
    "        'drive_id': np.int32,\n",
    "        'play_id': np.int32,\n",
    "        'home_score': np.int32,\n",
    "        'away_score': np.int32,\n",
    "        'yardline': np.int32,\n",
    "        'quarter': np.int32,\n",
    "        'clock': np.int32,\n",
    "        'down': np.int32,\n",
    "        'yards_to_go': np.int32\n",
    "    }\n",
    "    df = pd.read_csv(filename)\n",
    "    \n",
    "    # Change identity categoricals to 0-based\n",
    "    df.quarter = df.quarter - 1\n",
    "    df.down = df.down - 1\n",
    "    df = df.loc[df.pos_team == 'NE']\n",
    "    df = df.reset_index()\n",
    "    \n",
    "    return df"
   ]
  },
  {
   "cell_type": "code",
   "execution_count": 4,
   "metadata": {},
   "outputs": [
    {
     "data": {
      "text/html": [
       "<div>\n",
       "<style scoped>\n",
       "    .dataframe tbody tr th:only-of-type {\n",
       "        vertical-align: middle;\n",
       "    }\n",
       "\n",
       "    .dataframe tbody tr th {\n",
       "        vertical-align: top;\n",
       "    }\n",
       "\n",
       "    .dataframe thead th {\n",
       "        text-align: right;\n",
       "    }\n",
       "</style>\n",
       "<table border=\"1\" class=\"dataframe\">\n",
       "  <thead>\n",
       "    <tr style=\"text-align: right;\">\n",
       "      <th></th>\n",
       "      <th>index</th>\n",
       "      <th>gsis_id</th>\n",
       "      <th>drive_id</th>\n",
       "      <th>play_id</th>\n",
       "      <th>home_team</th>\n",
       "      <th>away_team</th>\n",
       "      <th>home_score</th>\n",
       "      <th>away_score</th>\n",
       "      <th>quarter</th>\n",
       "      <th>clock</th>\n",
       "      <th>down</th>\n",
       "      <th>yards_to_go</th>\n",
       "      <th>yardline</th>\n",
       "      <th>pos_team</th>\n",
       "      <th>point_differential</th>\n",
       "    </tr>\n",
       "  </thead>\n",
       "  <tbody>\n",
       "    <tr>\n",
       "      <th>0</th>\n",
       "      <td>0</td>\n",
       "      <td>2014092105</td>\n",
       "      <td>11</td>\n",
       "      <td>2465</td>\n",
       "      <td>NE</td>\n",
       "      <td>OAK</td>\n",
       "      <td>10</td>\n",
       "      <td>6</td>\n",
       "      <td>2</td>\n",
       "      <td>376</td>\n",
       "      <td>1</td>\n",
       "      <td>10</td>\n",
       "      <td>-20</td>\n",
       "      <td>NE</td>\n",
       "      <td>4</td>\n",
       "    </tr>\n",
       "    <tr>\n",
       "      <th>1</th>\n",
       "      <td>1</td>\n",
       "      <td>2009092705</td>\n",
       "      <td>12</td>\n",
       "      <td>2913</td>\n",
       "      <td>NE</td>\n",
       "      <td>ATL</td>\n",
       "      <td>16</td>\n",
       "      <td>10</td>\n",
       "      <td>2</td>\n",
       "      <td>894</td>\n",
       "      <td>1</td>\n",
       "      <td>10</td>\n",
       "      <td>34</td>\n",
       "      <td>NE</td>\n",
       "      <td>6</td>\n",
       "    </tr>\n",
       "    <tr>\n",
       "      <th>2</th>\n",
       "      <td>3</td>\n",
       "      <td>2012122304</td>\n",
       "      <td>22</td>\n",
       "      <td>3713</td>\n",
       "      <td>JAC</td>\n",
       "      <td>NE</td>\n",
       "      <td>16</td>\n",
       "      <td>23</td>\n",
       "      <td>3</td>\n",
       "      <td>427</td>\n",
       "      <td>2</td>\n",
       "      <td>5</td>\n",
       "      <td>-25</td>\n",
       "      <td>NE</td>\n",
       "      <td>7</td>\n",
       "    </tr>\n",
       "    <tr>\n",
       "      <th>3</th>\n",
       "      <td>6</td>\n",
       "      <td>2012121613</td>\n",
       "      <td>24</td>\n",
       "      <td>3753</td>\n",
       "      <td>NE</td>\n",
       "      <td>SF</td>\n",
       "      <td>17</td>\n",
       "      <td>31</td>\n",
       "      <td>3</td>\n",
       "      <td>131</td>\n",
       "      <td>2</td>\n",
       "      <td>2</td>\n",
       "      <td>-8</td>\n",
       "      <td>NE</td>\n",
       "      <td>-14</td>\n",
       "    </tr>\n",
       "    <tr>\n",
       "      <th>4</th>\n",
       "      <td>7</td>\n",
       "      <td>2010091911</td>\n",
       "      <td>10</td>\n",
       "      <td>2215</td>\n",
       "      <td>NYJ</td>\n",
       "      <td>NE</td>\n",
       "      <td>10</td>\n",
       "      <td>14</td>\n",
       "      <td>2</td>\n",
       "      <td>200</td>\n",
       "      <td>2</td>\n",
       "      <td>3</td>\n",
       "      <td>-1</td>\n",
       "      <td>NE</td>\n",
       "      <td>4</td>\n",
       "    </tr>\n",
       "  </tbody>\n",
       "</table>\n",
       "</div>"
      ],
      "text/plain": [
       "   index     gsis_id  drive_id  play_id home_team away_team  home_score  \\\n",
       "0      0  2014092105        11     2465        NE       OAK          10   \n",
       "1      1  2009092705        12     2913        NE       ATL          16   \n",
       "2      3  2012122304        22     3713       JAC        NE          16   \n",
       "3      6  2012121613        24     3753        NE        SF          17   \n",
       "4      7  2010091911        10     2215       NYJ        NE          10   \n",
       "\n",
       "   away_score  quarter  clock  down  yards_to_go  yardline pos_team  \\\n",
       "0           6        2    376     1           10       -20       NE   \n",
       "1          10        2    894     1           10        34       NE   \n",
       "2          23        3    427     2            5       -25       NE   \n",
       "3          31        3    131     2            2        -8       NE   \n",
       "4          14        2    200     2            3        -1       NE   \n",
       "\n",
       "   point_differential  \n",
       "0                   4  \n",
       "1                   6  \n",
       "2                   7  \n",
       "3                 -14  \n",
       "4                   4  "
      ]
     },
     "execution_count": 4,
     "metadata": {},
     "output_type": "execute_result"
    }
   ],
   "source": [
    "train_data = load_prediction_data(_train_filename)\n",
    "train_labels = train_data.pop('play_type')\n",
    "\n",
    "eval_data = load_prediction_data(_eval_filename)\n",
    "eval_labels = eval_data.pop('play_type')\n",
    "\n",
    "train_data.head()"
   ]
  },
  {
   "cell_type": "code",
   "execution_count": 5,
   "metadata": {},
   "outputs": [
    {
     "data": {
      "text/plain": [
       "51870"
      ]
     },
     "execution_count": 5,
     "metadata": {},
     "output_type": "execute_result"
    }
   ],
   "source": [
    "train_data.size"
   ]
  },
  {
   "cell_type": "code",
   "execution_count": 6,
   "metadata": {},
   "outputs": [],
   "source": [
    "unique_labels = ['rush', 'pass', 'punt', 'field goal']"
   ]
  },
  {
   "cell_type": "code",
   "execution_count": 7,
   "metadata": {},
   "outputs": [],
   "source": [
    "train_input_fn = tf.estimator.inputs.pandas_input_fn(x=train_data, y=train_labels, shuffle=True, batch_size=32, num_epochs=None)\n",
    "eval_input_fn = tf.estimator.inputs.pandas_input_fn(x=eval_data, y=eval_labels, shuffle=False, num_epochs=1)"
   ]
  },
  {
   "cell_type": "code",
   "execution_count": 10,
   "metadata": {},
   "outputs": [],
   "source": [
    "tf.feature_column.numeric_column('yardline')\n",
    "yards_to_go = tf.feature_column.numeric_column('yards_to_go')\n",
    "yards_to_go_bucketized = tf.feature_column.bucketized_column(yards_to_go, boundaries=[1,2,3,5,8,10,15,20])\n",
    "yardline = tf.feature_column.numeric_column('yardline')\n",
    "yardline_bucketized = tf.feature_column.bucketized_column(yardline, boundaries=[-50,-45,-40,-30,-20,-10,0,10,20,30,40,45,48])\n",
    "quarter = tf.feature_column.categorical_column_with_identity('quarter', num_buckets=4)\n",
    "down = tf.feature_column.categorical_column_with_identity('down', num_buckets=4)\n",
    "point_differential = tf.feature_column.numeric_column('point_differential')\n",
    "point_differential_bucketized = tf.feature_column.bucketized_column(point_differential, boundaries=[-21, -17, -14, -10, -7, -3, -2, -1, 0, 1, 2, 3, 7, 10, 14, 17, 21])\n",
    "clock = tf.feature_column.numeric_column('clock')\n",
    "clock_bucketized = tf.feature_column.bucketized_column(clock, boundaries=[120, 480, 700, 820])\n",
    "\n",
    "numeric_features = [\n",
    "    tf.feature_column.numeric_column('home_score'),\n",
    "    tf.feature_column.numeric_column('away_score'),\n",
    "    point_differential\n",
    "]\n",
    "\n",
    "categorical_features = [\n",
    "    quarter,\n",
    "    down\n",
    "]\n",
    "\n",
    "crossed_columns = [\n",
    "    tf.feature_column.embedding_column(tf.feature_column.crossed_column([down, yards_to_go_bucketized], hash_bucket_size=1000), 1),\n",
    "    tf.feature_column.embedding_column(tf.feature_column.crossed_column([quarter, down, clock_bucketized, yards_to_go_bucketized], hash_bucket_size=1000), 4),\n",
    "    tf.feature_column.embedding_column(tf.feature_column.crossed_column([point_differential_bucketized, clock_bucketized], hash_bucket_size=1000), 1),\n",
    "    tf.feature_column.embedding_column(\n",
    "        tf.feature_column.crossed_column([point_differential_bucketized, yards_to_go_bucketized, yardline_bucketized, quarter, down, clock_bucketized], hash_bucket_size=50000), 20)\n",
    "]\n",
    "\n",
    "features = numeric_features + crossed_columns"
   ]
  },
  {
   "cell_type": "code",
   "execution_count": 11,
   "metadata": {},
   "outputs": [
    {
     "name": "stdout",
     "output_type": "stream",
     "text": [
      "INFO:tensorflow:Using default config.\n",
      "INFO:tensorflow:Using config: {'_model_dir': './model', '_tf_random_seed': None, '_save_summary_steps': 100, '_save_checkpoints_steps': None, '_save_checkpoints_secs': 600, '_session_config': None, '_keep_checkpoint_max': 5, '_keep_checkpoint_every_n_hours': 10000, '_log_step_count_steps': 100, '_service': None, '_cluster_spec': <tensorflow.python.training.server_lib.ClusterSpec object at 0x0000028AF200DF28>, '_task_type': 'worker', '_task_id': 0, '_global_id_in_cluster': 0, '_master': '', '_evaluation_master': '', '_is_chief': True, '_num_ps_replicas': 0, '_num_worker_replicas': 1}\n",
      "INFO:tensorflow:Calling model_fn.\n",
      "INFO:tensorflow:Done calling model_fn.\n",
      "INFO:tensorflow:Create CheckpointSaverHook.\n",
      "INFO:tensorflow:Graph was finalized.\n",
      "INFO:tensorflow:Restoring parameters from ./model\\model.ckpt-1040000\n",
      "INFO:tensorflow:Running local_init_op.\n",
      "INFO:tensorflow:Done running local_init_op.\n",
      "INFO:tensorflow:Saving checkpoints for 1040001 into ./model\\model.ckpt.\n",
      "INFO:tensorflow:loss = 0.010734662, step = 1040001\n",
      "INFO:tensorflow:Saving checkpoints for 1040100 into ./model\\model.ckpt.\n",
      "INFO:tensorflow:Loss for final step: 1.5549906.\n"
     ]
    },
    {
     "data": {
      "text/plain": [
       "<tensorflow.python.estimator.canned.dnn.DNNClassifier at 0x28af200ddd8>"
      ]
     },
     "execution_count": 11,
     "metadata": {},
     "output_type": "execute_result"
    }
   ],
   "source": [
    "estimator = tf.estimator.DNNClassifier(feature_columns=features,\n",
    "                                       hidden_units=[10,10],\n",
    "                                       n_classes=4,\n",
    "                                       dropout=0.1,\n",
    "                                       label_vocabulary=unique_labels,\n",
    "                                       model_dir='./model')\n",
    "\n",
    "estimator.train(train_input_fn, steps=100)"
   ]
  },
  {
   "cell_type": "code",
   "execution_count": 12,
   "metadata": {},
   "outputs": [
    {
     "name": "stdout",
     "output_type": "stream",
     "text": [
      "INFO:tensorflow:Calling model_fn.\n",
      "INFO:tensorflow:Done calling model_fn.\n",
      "INFO:tensorflow:Starting evaluation at 2018-05-03-21:48:34\n",
      "INFO:tensorflow:Graph was finalized.\n",
      "INFO:tensorflow:Restoring parameters from ./model\\model.ckpt-1040100\n",
      "INFO:tensorflow:Running local_init_op.\n",
      "INFO:tensorflow:Done running local_init_op.\n",
      "INFO:tensorflow:Finished evaluation at 2018-05-03-21:48:34\n",
      "INFO:tensorflow:Saving dict for global step 1040100: accuracy = 0.5755814, average_loss = 17.528652, global_step = 1040100, loss = 2153.52\n"
     ]
    },
    {
     "data": {
      "text/plain": [
       "{'accuracy': 0.5755814,\n",
       " 'average_loss': 17.528652,\n",
       " 'loss': 2153.52,\n",
       " 'global_step': 1040100}"
      ]
     },
     "execution_count": 12,
     "metadata": {},
     "output_type": "execute_result"
    }
   ],
   "source": [
    "estimator.evaluate(eval_input_fn)"
   ]
  },
  {
   "cell_type": "code",
   "execution_count": 13,
   "metadata": {},
   "outputs": [
    {
     "name": "stdout",
     "output_type": "stream",
     "text": [
      "INFO:tensorflow:Calling model_fn.\n",
      "INFO:tensorflow:Done calling model_fn.\n",
      "INFO:tensorflow:Graph was finalized.\n",
      "INFO:tensorflow:Restoring parameters from ./model\\model.ckpt-1040100\n",
      "INFO:tensorflow:Running local_init_op.\n",
      "INFO:tensorflow:Done running local_init_op.\n"
     ]
    }
   ],
   "source": [
    "predict_data = load_prediction_data(_predict_filename)\n",
    "predict_labels = predict_data.pop('play_type')\n",
    "\n",
    "predict_input_fn = tf.estimator.inputs.pandas_input_fn(predict_data, predict_labels, shuffle=False, num_epochs=1)\n",
    "\n",
    "predictions = [row['classes'] for row in list(estimator.predict(predict_input_fn))]\n",
    "predictions = pd.DataFrame(predictions, columns=['prediction'])"
   ]
  },
  {
   "cell_type": "code",
   "execution_count": 14,
   "metadata": {},
   "outputs": [
    {
     "data": {
      "text/html": [
       "<div>\n",
       "<style scoped>\n",
       "    .dataframe tbody tr th:only-of-type {\n",
       "        vertical-align: middle;\n",
       "    }\n",
       "\n",
       "    .dataframe tbody tr th {\n",
       "        vertical-align: top;\n",
       "    }\n",
       "\n",
       "    .dataframe thead th {\n",
       "        text-align: right;\n",
       "    }\n",
       "</style>\n",
       "<table border=\"1\" class=\"dataframe\">\n",
       "  <thead>\n",
       "    <tr style=\"text-align: right;\">\n",
       "      <th></th>\n",
       "      <th>prediction</th>\n",
       "      <th>play_type</th>\n",
       "      <th>index</th>\n",
       "      <th>gsis_id</th>\n",
       "      <th>drive_id</th>\n",
       "      <th>play_id</th>\n",
       "      <th>home_team</th>\n",
       "      <th>away_team</th>\n",
       "      <th>home_score</th>\n",
       "      <th>away_score</th>\n",
       "      <th>quarter</th>\n",
       "      <th>clock</th>\n",
       "      <th>down</th>\n",
       "      <th>yards_to_go</th>\n",
       "      <th>yardline</th>\n",
       "      <th>pos_team</th>\n",
       "      <th>point_differential</th>\n",
       "    </tr>\n",
       "  </thead>\n",
       "  <tbody>\n",
       "    <tr>\n",
       "      <th>0</th>\n",
       "      <td>punt</td>\n",
       "      <td>punt</td>\n",
       "      <td>1</td>\n",
       "      <td>2012092313</td>\n",
       "      <td>20</td>\n",
       "      <td>4501</td>\n",
       "      <td>BAL</td>\n",
       "      <td>NE</td>\n",
       "      <td>28</td>\n",
       "      <td>30</td>\n",
       "      <td>4</td>\n",
       "      <td>779</td>\n",
       "      <td>4</td>\n",
       "      <td>16</td>\n",
       "      <td>-1</td>\n",
       "      <td>NE</td>\n",
       "      <td>2</td>\n",
       "    </tr>\n",
       "    <tr>\n",
       "      <th>1</th>\n",
       "      <td>rush</td>\n",
       "      <td>rush</td>\n",
       "      <td>8</td>\n",
       "      <td>2012111103</td>\n",
       "      <td>11</td>\n",
       "      <td>2357</td>\n",
       "      <td>NE</td>\n",
       "      <td>BUF</td>\n",
       "      <td>24</td>\n",
       "      <td>17</td>\n",
       "      <td>3</td>\n",
       "      <td>110</td>\n",
       "      <td>1</td>\n",
       "      <td>10</td>\n",
       "      <td>-1</td>\n",
       "      <td>NE</td>\n",
       "      <td>7</td>\n",
       "    </tr>\n",
       "    <tr>\n",
       "      <th>2</th>\n",
       "      <td>punt</td>\n",
       "      <td>punt</td>\n",
       "      <td>9</td>\n",
       "      <td>2014101201</td>\n",
       "      <td>10</td>\n",
       "      <td>1900</td>\n",
       "      <td>BUF</td>\n",
       "      <td>NE</td>\n",
       "      <td>7</td>\n",
       "      <td>7</td>\n",
       "      <td>2</td>\n",
       "      <td>752</td>\n",
       "      <td>4</td>\n",
       "      <td>7</td>\n",
       "      <td>-27</td>\n",
       "      <td>NE</td>\n",
       "      <td>0</td>\n",
       "    </tr>\n",
       "    <tr>\n",
       "      <th>3</th>\n",
       "      <td>punt</td>\n",
       "      <td>field goal</td>\n",
       "      <td>11</td>\n",
       "      <td>2015092001</td>\n",
       "      <td>21</td>\n",
       "      <td>4097</td>\n",
       "      <td>BUF</td>\n",
       "      <td>NE</td>\n",
       "      <td>13</td>\n",
       "      <td>37</td>\n",
       "      <td>3</td>\n",
       "      <td>867</td>\n",
       "      <td>4</td>\n",
       "      <td>10</td>\n",
       "      <td>18</td>\n",
       "      <td>NE</td>\n",
       "      <td>24</td>\n",
       "    </tr>\n",
       "    <tr>\n",
       "      <th>4</th>\n",
       "      <td>pass</td>\n",
       "      <td>pass</td>\n",
       "      <td>12</td>\n",
       "      <td>2013121504</td>\n",
       "      <td>17</td>\n",
       "      <td>3464</td>\n",
       "      <td>MIA</td>\n",
       "      <td>NE</td>\n",
       "      <td>17</td>\n",
       "      <td>19</td>\n",
       "      <td>4</td>\n",
       "      <td>646</td>\n",
       "      <td>2</td>\n",
       "      <td>10</td>\n",
       "      <td>26</td>\n",
       "      <td>NE</td>\n",
       "      <td>2</td>\n",
       "    </tr>\n",
       "  </tbody>\n",
       "</table>\n",
       "</div>"
      ],
      "text/plain": [
       "  prediction   play_type  index     gsis_id  drive_id  play_id home_team  \\\n",
       "0       punt        punt      1  2012092313        20     4501       BAL   \n",
       "1       rush        rush      8  2012111103        11     2357        NE   \n",
       "2       punt        punt      9  2014101201        10     1900       BUF   \n",
       "3       punt  field goal     11  2015092001        21     4097       BUF   \n",
       "4       pass        pass     12  2013121504        17     3464       MIA   \n",
       "\n",
       "  away_team  home_score  away_score  quarter  clock  down  yards_to_go  \\\n",
       "0        NE          28          30        4    779     4           16   \n",
       "1       BUF          24          17        3    110     1           10   \n",
       "2        NE           7           7        2    752     4            7   \n",
       "3        NE          13          37        3    867     4           10   \n",
       "4        NE          17          19        4    646     2           10   \n",
       "\n",
       "   yardline pos_team  point_differential  \n",
       "0        -1       NE                   2  \n",
       "1        -1       NE                   7  \n",
       "2       -27       NE                   0  \n",
       "3        18       NE                  24  \n",
       "4        26       NE                   2  "
      ]
     },
     "execution_count": 14,
     "metadata": {},
     "output_type": "execute_result"
    }
   ],
   "source": [
    "joined = predictions.join(predict_labels).join(predict_data)\n",
    "\n",
    "# Make Quarter and Down look normal again for output\n",
    "joined.quarter = joined.quarter + 1\n",
    "joined.down = joined.down + 1\n",
    "joined.prediction = joined.prediction.apply(lambda x: str(x, 'utf-8'))\n",
    "joined.head()"
   ]
  },
  {
   "cell_type": "code",
   "execution_count": 15,
   "metadata": {},
   "outputs": [],
   "source": [
    "fourth_and_short = joined.loc[(joined.down == 4) & (joined.yards_to_go == 1)]"
   ]
  },
  {
   "cell_type": "code",
   "execution_count": 16,
   "metadata": {},
   "outputs": [
    {
     "data": {
      "text/plain": [
       "68"
      ]
     },
     "execution_count": 16,
     "metadata": {},
     "output_type": "execute_result"
    }
   ],
   "source": [
    "fourth_and_short.loc[fourth_and_short.prediction == fourth_and_short.play_type].size"
   ]
  },
  {
   "cell_type": "code",
   "execution_count": 17,
   "metadata": {},
   "outputs": [
    {
     "data": {
      "text/plain": [
       "102"
      ]
     },
     "execution_count": 17,
     "metadata": {},
     "output_type": "execute_result"
    }
   ],
   "source": [
    "fourth_and_short.loc[(fourth_and_short.prediction != fourth_and_short.play_type) & (fourth_and_short.play_type == 'punt')]\n",
    "\n",
    "fourth_and_short.loc[(fourth_and_short.prediction.isin(['rush', 'pass'])) & (fourth_and_short.play_type.isin(['rush', 'pass']))].size"
   ]
  },
  {
   "cell_type": "code",
   "execution_count": 18,
   "metadata": {},
   "outputs": [
    {
     "data": {
      "text/html": [
       "<div>\n",
       "<style scoped>\n",
       "    .dataframe tbody tr th:only-of-type {\n",
       "        vertical-align: middle;\n",
       "    }\n",
       "\n",
       "    .dataframe tbody tr th {\n",
       "        vertical-align: top;\n",
       "    }\n",
       "\n",
       "    .dataframe thead th {\n",
       "        text-align: right;\n",
       "    }\n",
       "</style>\n",
       "<table border=\"1\" class=\"dataframe\">\n",
       "  <thead>\n",
       "    <tr style=\"text-align: right;\">\n",
       "      <th></th>\n",
       "      <th>prediction</th>\n",
       "      <th>play_type</th>\n",
       "      <th>index</th>\n",
       "      <th>gsis_id</th>\n",
       "      <th>drive_id</th>\n",
       "      <th>play_id</th>\n",
       "      <th>home_team</th>\n",
       "      <th>away_team</th>\n",
       "      <th>home_score</th>\n",
       "      <th>away_score</th>\n",
       "      <th>quarter</th>\n",
       "      <th>clock</th>\n",
       "      <th>down</th>\n",
       "      <th>yards_to_go</th>\n",
       "      <th>yardline</th>\n",
       "      <th>pos_team</th>\n",
       "      <th>point_differential</th>\n",
       "    </tr>\n",
       "  </thead>\n",
       "  <tbody>\n",
       "    <tr>\n",
       "      <th>295</th>\n",
       "      <td>pass</td>\n",
       "      <td>punt</td>\n",
       "      <td>598</td>\n",
       "      <td>2013091200</td>\n",
       "      <td>15</td>\n",
       "      <td>2229</td>\n",
       "      <td>NE</td>\n",
       "      <td>NYJ</td>\n",
       "      <td>13</td>\n",
       "      <td>3</td>\n",
       "      <td>2</td>\n",
       "      <td>768</td>\n",
       "      <td>4</td>\n",
       "      <td>1</td>\n",
       "      <td>-12</td>\n",
       "      <td>NE</td>\n",
       "      <td>10</td>\n",
       "    </tr>\n",
       "    <tr>\n",
       "      <th>307</th>\n",
       "      <td>pass</td>\n",
       "      <td>rush</td>\n",
       "      <td>628</td>\n",
       "      <td>2013120802</td>\n",
       "      <td>17</td>\n",
       "      <td>3095</td>\n",
       "      <td>NE</td>\n",
       "      <td>CLE</td>\n",
       "      <td>0</td>\n",
       "      <td>12</td>\n",
       "      <td>3</td>\n",
       "      <td>689</td>\n",
       "      <td>4</td>\n",
       "      <td>1</td>\n",
       "      <td>-2</td>\n",
       "      <td>NE</td>\n",
       "      <td>-12</td>\n",
       "    </tr>\n",
       "    <tr>\n",
       "      <th>365</th>\n",
       "      <td>pass</td>\n",
       "      <td>field goal</td>\n",
       "      <td>747</td>\n",
       "      <td>2014101600</td>\n",
       "      <td>11</td>\n",
       "      <td>2795</td>\n",
       "      <td>NE</td>\n",
       "      <td>NYJ</td>\n",
       "      <td>20</td>\n",
       "      <td>19</td>\n",
       "      <td>3</td>\n",
       "      <td>645</td>\n",
       "      <td>4</td>\n",
       "      <td>1</td>\n",
       "      <td>32</td>\n",
       "      <td>NE</td>\n",
       "      <td>1</td>\n",
       "    </tr>\n",
       "    <tr>\n",
       "      <th>381</th>\n",
       "      <td>punt</td>\n",
       "      <td>punt</td>\n",
       "      <td>783</td>\n",
       "      <td>2009120613</td>\n",
       "      <td>5</td>\n",
       "      <td>1223</td>\n",
       "      <td>MIA</td>\n",
       "      <td>NE</td>\n",
       "      <td>7</td>\n",
       "      <td>14</td>\n",
       "      <td>2</td>\n",
       "      <td>374</td>\n",
       "      <td>4</td>\n",
       "      <td>1</td>\n",
       "      <td>-6</td>\n",
       "      <td>NE</td>\n",
       "      <td>7</td>\n",
       "    </tr>\n",
       "    <tr>\n",
       "      <th>537</th>\n",
       "      <td>pass</td>\n",
       "      <td>pass</td>\n",
       "      <td>1043</td>\n",
       "      <td>2012121613</td>\n",
       "      <td>30</td>\n",
       "      <td>4747</td>\n",
       "      <td>NE</td>\n",
       "      <td>SF</td>\n",
       "      <td>31</td>\n",
       "      <td>38</td>\n",
       "      <td>4</td>\n",
       "      <td>756</td>\n",
       "      <td>4</td>\n",
       "      <td>1</td>\n",
       "      <td>-38</td>\n",
       "      <td>NE</td>\n",
       "      <td>-7</td>\n",
       "    </tr>\n",
       "    <tr>\n",
       "      <th>648</th>\n",
       "      <td>punt</td>\n",
       "      <td>pass</td>\n",
       "      <td>1259</td>\n",
       "      <td>2015092001</td>\n",
       "      <td>12</td>\n",
       "      <td>1830</td>\n",
       "      <td>BUF</td>\n",
       "      <td>NE</td>\n",
       "      <td>7</td>\n",
       "      <td>21</td>\n",
       "      <td>2</td>\n",
       "      <td>495</td>\n",
       "      <td>4</td>\n",
       "      <td>1</td>\n",
       "      <td>-2</td>\n",
       "      <td>NE</td>\n",
       "      <td>14</td>\n",
       "    </tr>\n",
       "    <tr>\n",
       "      <th>674</th>\n",
       "      <td>rush</td>\n",
       "      <td>punt</td>\n",
       "      <td>1311</td>\n",
       "      <td>2011120413</td>\n",
       "      <td>14</td>\n",
       "      <td>3408</td>\n",
       "      <td>NE</td>\n",
       "      <td>IND</td>\n",
       "      <td>31</td>\n",
       "      <td>10</td>\n",
       "      <td>4</td>\n",
       "      <td>356</td>\n",
       "      <td>4</td>\n",
       "      <td>1</td>\n",
       "      <td>-21</td>\n",
       "      <td>NE</td>\n",
       "      <td>21</td>\n",
       "    </tr>\n",
       "    <tr>\n",
       "      <th>721</th>\n",
       "      <td>pass</td>\n",
       "      <td>pass</td>\n",
       "      <td>1410</td>\n",
       "      <td>2009092705</td>\n",
       "      <td>18</td>\n",
       "      <td>3871</td>\n",
       "      <td>NE</td>\n",
       "      <td>ATL</td>\n",
       "      <td>26</td>\n",
       "      <td>10</td>\n",
       "      <td>4</td>\n",
       "      <td>780</td>\n",
       "      <td>4</td>\n",
       "      <td>1</td>\n",
       "      <td>17</td>\n",
       "      <td>NE</td>\n",
       "      <td>16</td>\n",
       "    </tr>\n",
       "    <tr>\n",
       "      <th>728</th>\n",
       "      <td>pass</td>\n",
       "      <td>punt</td>\n",
       "      <td>1424</td>\n",
       "      <td>2011110609</td>\n",
       "      <td>2</td>\n",
       "      <td>260</td>\n",
       "      <td>NE</td>\n",
       "      <td>NYG</td>\n",
       "      <td>0</td>\n",
       "      <td>0</td>\n",
       "      <td>1</td>\n",
       "      <td>240</td>\n",
       "      <td>4</td>\n",
       "      <td>1</td>\n",
       "      <td>-18</td>\n",
       "      <td>NE</td>\n",
       "      <td>0</td>\n",
       "    </tr>\n",
       "    <tr>\n",
       "      <th>764</th>\n",
       "      <td>pass</td>\n",
       "      <td>rush</td>\n",
       "      <td>1495</td>\n",
       "      <td>2010120600</td>\n",
       "      <td>18</td>\n",
       "      <td>3189</td>\n",
       "      <td>NE</td>\n",
       "      <td>NYJ</td>\n",
       "      <td>38</td>\n",
       "      <td>3</td>\n",
       "      <td>4</td>\n",
       "      <td>250</td>\n",
       "      <td>4</td>\n",
       "      <td>1</td>\n",
       "      <td>31</td>\n",
       "      <td>NE</td>\n",
       "      <td>35</td>\n",
       "    </tr>\n",
       "    <tr>\n",
       "      <th>769</th>\n",
       "      <td>punt</td>\n",
       "      <td>pass</td>\n",
       "      <td>1506</td>\n",
       "      <td>2010110702</td>\n",
       "      <td>9</td>\n",
       "      <td>1227</td>\n",
       "      <td>CLE</td>\n",
       "      <td>NE</td>\n",
       "      <td>10</td>\n",
       "      <td>0</td>\n",
       "      <td>2</td>\n",
       "      <td>295</td>\n",
       "      <td>4</td>\n",
       "      <td>1</td>\n",
       "      <td>26</td>\n",
       "      <td>NE</td>\n",
       "      <td>-10</td>\n",
       "    </tr>\n",
       "    <tr>\n",
       "      <th>779</th>\n",
       "      <td>pass</td>\n",
       "      <td>punt</td>\n",
       "      <td>1529</td>\n",
       "      <td>2009101110</td>\n",
       "      <td>6</td>\n",
       "      <td>955</td>\n",
       "      <td>DEN</td>\n",
       "      <td>NE</td>\n",
       "      <td>0</td>\n",
       "      <td>10</td>\n",
       "      <td>1</td>\n",
       "      <td>877</td>\n",
       "      <td>4</td>\n",
       "      <td>1</td>\n",
       "      <td>-18</td>\n",
       "      <td>NE</td>\n",
       "      <td>10</td>\n",
       "    </tr>\n",
       "    <tr>\n",
       "      <th>852</th>\n",
       "      <td>pass</td>\n",
       "      <td>rush</td>\n",
       "      <td>1661</td>\n",
       "      <td>2013110309</td>\n",
       "      <td>4</td>\n",
       "      <td>675</td>\n",
       "      <td>NE</td>\n",
       "      <td>PIT</td>\n",
       "      <td>0</td>\n",
       "      <td>0</td>\n",
       "      <td>1</td>\n",
       "      <td>643</td>\n",
       "      <td>4</td>\n",
       "      <td>1</td>\n",
       "      <td>49</td>\n",
       "      <td>NE</td>\n",
       "      <td>0</td>\n",
       "    </tr>\n",
       "    <tr>\n",
       "      <th>933</th>\n",
       "      <td>rush</td>\n",
       "      <td>rush</td>\n",
       "      <td>1817</td>\n",
       "      <td>2009122706</td>\n",
       "      <td>16</td>\n",
       "      <td>3104</td>\n",
       "      <td>NE</td>\n",
       "      <td>JAC</td>\n",
       "      <td>35</td>\n",
       "      <td>7</td>\n",
       "      <td>4</td>\n",
       "      <td>535</td>\n",
       "      <td>4</td>\n",
       "      <td>1</td>\n",
       "      <td>23</td>\n",
       "      <td>NE</td>\n",
       "      <td>28</td>\n",
       "    </tr>\n",
       "    <tr>\n",
       "      <th>1002</th>\n",
       "      <td>punt</td>\n",
       "      <td>rush</td>\n",
       "      <td>1949</td>\n",
       "      <td>2012121613</td>\n",
       "      <td>22</td>\n",
       "      <td>3553</td>\n",
       "      <td>NE</td>\n",
       "      <td>SF</td>\n",
       "      <td>16</td>\n",
       "      <td>31</td>\n",
       "      <td>4</td>\n",
       "      <td>0</td>\n",
       "      <td>4</td>\n",
       "      <td>1</td>\n",
       "      <td>49</td>\n",
       "      <td>NE</td>\n",
       "      <td>-15</td>\n",
       "    </tr>\n",
       "    <tr>\n",
       "      <th>1026</th>\n",
       "      <td>rush</td>\n",
       "      <td>field goal</td>\n",
       "      <td>1990</td>\n",
       "      <td>2012101408</td>\n",
       "      <td>7</td>\n",
       "      <td>1832</td>\n",
       "      <td>SEA</td>\n",
       "      <td>NE</td>\n",
       "      <td>10</td>\n",
       "      <td>17</td>\n",
       "      <td>2</td>\n",
       "      <td>765</td>\n",
       "      <td>4</td>\n",
       "      <td>1</td>\n",
       "      <td>44</td>\n",
       "      <td>NE</td>\n",
       "      <td>7</td>\n",
       "    </tr>\n",
       "  </tbody>\n",
       "</table>\n",
       "</div>"
      ],
      "text/plain": [
       "     prediction   play_type  index     gsis_id  drive_id  play_id home_team  \\\n",
       "295        pass        punt    598  2013091200        15     2229        NE   \n",
       "307        pass        rush    628  2013120802        17     3095        NE   \n",
       "365        pass  field goal    747  2014101600        11     2795        NE   \n",
       "381        punt        punt    783  2009120613         5     1223       MIA   \n",
       "537        pass        pass   1043  2012121613        30     4747        NE   \n",
       "648        punt        pass   1259  2015092001        12     1830       BUF   \n",
       "674        rush        punt   1311  2011120413        14     3408        NE   \n",
       "721        pass        pass   1410  2009092705        18     3871        NE   \n",
       "728        pass        punt   1424  2011110609         2      260        NE   \n",
       "764        pass        rush   1495  2010120600        18     3189        NE   \n",
       "769        punt        pass   1506  2010110702         9     1227       CLE   \n",
       "779        pass        punt   1529  2009101110         6      955       DEN   \n",
       "852        pass        rush   1661  2013110309         4      675        NE   \n",
       "933        rush        rush   1817  2009122706        16     3104        NE   \n",
       "1002       punt        rush   1949  2012121613        22     3553        NE   \n",
       "1026       rush  field goal   1990  2012101408         7     1832       SEA   \n",
       "\n",
       "     away_team  home_score  away_score  quarter  clock  down  yards_to_go  \\\n",
       "295        NYJ          13           3        2    768     4            1   \n",
       "307        CLE           0          12        3    689     4            1   \n",
       "365        NYJ          20          19        3    645     4            1   \n",
       "381         NE           7          14        2    374     4            1   \n",
       "537         SF          31          38        4    756     4            1   \n",
       "648         NE           7          21        2    495     4            1   \n",
       "674        IND          31          10        4    356     4            1   \n",
       "721        ATL          26          10        4    780     4            1   \n",
       "728        NYG           0           0        1    240     4            1   \n",
       "764        NYJ          38           3        4    250     4            1   \n",
       "769         NE          10           0        2    295     4            1   \n",
       "779         NE           0          10        1    877     4            1   \n",
       "852        PIT           0           0        1    643     4            1   \n",
       "933        JAC          35           7        4    535     4            1   \n",
       "1002        SF          16          31        4      0     4            1   \n",
       "1026        NE          10          17        2    765     4            1   \n",
       "\n",
       "      yardline pos_team  point_differential  \n",
       "295        -12       NE                  10  \n",
       "307         -2       NE                 -12  \n",
       "365         32       NE                   1  \n",
       "381         -6       NE                   7  \n",
       "537        -38       NE                  -7  \n",
       "648         -2       NE                  14  \n",
       "674        -21       NE                  21  \n",
       "721         17       NE                  16  \n",
       "728        -18       NE                   0  \n",
       "764         31       NE                  35  \n",
       "769         26       NE                 -10  \n",
       "779        -18       NE                  10  \n",
       "852         49       NE                   0  \n",
       "933         23       NE                  28  \n",
       "1002        49       NE                 -15  \n",
       "1026        44       NE                   7  "
      ]
     },
     "execution_count": 18,
     "metadata": {},
     "output_type": "execute_result"
    }
   ],
   "source": [
    "fourth_and_short"
   ]
  },
  {
   "cell_type": "code",
   "execution_count": 28,
   "metadata": {},
   "outputs": [
    {
     "data": {
      "text/plain": [
       "7922"
      ]
     },
     "execution_count": 28,
     "metadata": {},
     "output_type": "execute_result"
    }
   ],
   "source": [
    "first_down = joined.loc[joined.down == 1]\n",
    "second_down = joined.loc[joined.down == 2]\n",
    "third_down = joined.loc[joined.down == 3]\n",
    "first_down.size"
   ]
  },
  {
   "cell_type": "code",
   "execution_count": 22,
   "metadata": {},
   "outputs": [
    {
     "data": {
      "text/plain": [
       "4301"
      ]
     },
     "execution_count": 22,
     "metadata": {},
     "output_type": "execute_result"
    }
   ],
   "source": [
    "first_down.loc[first_down.prediction == first_down.play_type].size"
   ]
  },
  {
   "cell_type": "code",
   "execution_count": 23,
   "metadata": {},
   "outputs": [
    {
     "data": {
      "text/plain": [
       "3621"
      ]
     },
     "execution_count": 23,
     "metadata": {},
     "output_type": "execute_result"
    }
   ],
   "source": [
    "first_down.loc[first_down.prediction != first_down.play_type].size"
   ]
  },
  {
   "cell_type": "code",
   "execution_count": 25,
   "metadata": {},
   "outputs": [
    {
     "data": {
      "text/plain": [
       "3332"
      ]
     },
     "execution_count": 25,
     "metadata": {},
     "output_type": "execute_result"
    }
   ],
   "source": [
    "second_down.loc[second_down.prediction == second_down.play_type].size"
   ]
  },
  {
   "cell_type": "code",
   "execution_count": 26,
   "metadata": {},
   "outputs": [
    {
     "data": {
      "text/plain": [
       "2533"
      ]
     },
     "execution_count": 26,
     "metadata": {},
     "output_type": "execute_result"
    }
   ],
   "source": [
    "second_down.loc[second_down.prediction != second_down.play_type].size"
   ]
  },
  {
   "cell_type": "code",
   "execution_count": 30,
   "metadata": {},
   "outputs": [
    {
     "data": {
      "text/plain": [
       "2057"
      ]
     },
     "execution_count": 30,
     "metadata": {},
     "output_type": "execute_result"
    }
   ],
   "source": [
    "third_down.loc[third_down.prediction == third_down.play_type].size"
   ]
  },
  {
   "cell_type": "code",
   "execution_count": 31,
   "metadata": {},
   "outputs": [
    {
     "data": {
      "text/plain": [
       "969"
      ]
     },
     "execution_count": 31,
     "metadata": {},
     "output_type": "execute_result"
    }
   ],
   "source": [
    "third_down.loc[third_down.prediction != third_down.play_type].size"
   ]
  },
  {
   "cell_type": "code",
   "execution_count": 32,
   "metadata": {},
   "outputs": [],
   "source": [
    "third_and_short = third_down.loc[third_down.yards_to_go <= 3]"
   ]
  },
  {
   "cell_type": "code",
   "execution_count": 35,
   "metadata": {},
   "outputs": [
    {
     "data": {
      "text/plain": [
       "680"
      ]
     },
     "execution_count": 35,
     "metadata": {},
     "output_type": "execute_result"
    }
   ],
   "source": [
    "third_and_short.loc[third_and_short.prediction == third_and_short.play_type].size"
   ]
  },
  {
   "cell_type": "code",
   "execution_count": 36,
   "metadata": {},
   "outputs": [
    {
     "data": {
      "text/plain": [
       "442"
      ]
     },
     "execution_count": 36,
     "metadata": {},
     "output_type": "execute_result"
    }
   ],
   "source": [
    "third_and_short.loc[third_and_short.prediction != third_and_short.play_type].size"
   ]
  },
  {
   "cell_type": "code",
   "execution_count": null,
   "metadata": {},
   "outputs": [],
   "source": []
  }
 ],
 "metadata": {
  "kernelspec": {
   "display_name": "Python 3",
   "language": "python",
   "name": "python3"
  },
  "language_info": {
   "codemirror_mode": {
    "name": "ipython",
    "version": 3
   },
   "file_extension": ".py",
   "mimetype": "text/x-python",
   "name": "python",
   "nbconvert_exporter": "python",
   "pygments_lexer": "ipython3",
   "version": "3.6.5"
  }
 },
 "nbformat": 4,
 "nbformat_minor": 2
}
